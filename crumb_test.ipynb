{
 "cells": [
  {
   "cell_type": "code",
   "execution_count": 47,
   "metadata": {},
   "outputs": [],
   "source": [
    "import os\n",
    "import numpy as np\n",
    "from CRUMB import *"
   ]
  },
  {
   "cell_type": "code",
   "execution_count": 48,
   "metadata": {},
   "outputs": [],
   "source": [
    "def count_labels(lst, x):\n",
    "    count = 0\n",
    "    for element in lst:\n",
    "        if (element == x):\n",
    "            count += 1\n",
    "    return count\n",
    "\n",
    "def print_report(lst):\n",
    "    classes = ['FRI', 'FRII', 'BENT']\n",
    "    classes_count = [0, 0, 0]\n",
    "    for element in lst:\n",
    "        classes_count[element] = classes_count[element] + 1\n",
    "    print(\"----------------------------\")\n",
    "    for i in range(3):\n",
    "        out = classes[i] + ': ' + str(classes_count[i])\n",
    "        print(out)\n",
    "    print(\"----------------------------\")"
   ]
  },
  {
   "cell_type": "code",
   "execution_count": 49,
   "metadata": {},
   "outputs": [],
   "source": [
    "test_data = CRUMB('crumb', download=True, train=False, transform=None)\n",
    "train_data = CRUMB('crumb', download=True, train=True, transform=None)"
   ]
  },
  {
   "cell_type": "code",
   "execution_count": 50,
   "metadata": {},
   "outputs": [],
   "source": [
    "# [MiraBest, FR-DEEP, AT17, MiraBest Hybrid]\n",
    "\n",
    "# FR-DEEP: 0 (FRI), 1 (FRII)\n",
    "# AT17: 0 (FRI), 1 (FRII), 2 (BENT)"
   ]
  },
  {
   "cell_type": "code",
   "execution_count": 51,
   "metadata": {},
   "outputs": [],
   "source": [
    "def isolate_at17_frdeep(data: CRUMB):\n",
    "    at17_indices = np.where(np.transpose(data.complete_labels)[2] != -1)[0]\n",
    "    frdeep_indices = np.where(np.transpose(data.complete_labels)[1] != -1)[0]\n",
    "\n",
    "    # Isolate the unique indices of images in frdeep (i.e., only in frdeep)\n",
    "    only_in_frdeep_indices = []\n",
    "    for index in frdeep_indices:\n",
    "        if index not in at17_indices:\n",
    "            only_in_frdeep_indices.append(index)\n",
    "    only_in_frdeep_indices = np.array(only_in_frdeep_indices)    \n",
    "\n",
    "    isolated_images = []\n",
    "    isolated_labels = []\n",
    "\n",
    "    # Isolate images from at17\n",
    "    for index in at17_indices:\n",
    "        isolated_images.append(data.data[index])\n",
    "        isolated_labels.append(data.complete_labels[index][2])\n",
    "\n",
    "    # Isolate images only occuring in frdeep\n",
    "    for index in only_in_frdeep_indices:\n",
    "        isolated_images.append(data.data[index])\n",
    "        isolated_labels.append(data.complete_labels[index][1])\n",
    "\n",
    "    return np.array(isolated_images), np.array(isolated_labels)\n",
    "\n",
    "\n",
    "\n",
    "# print(at17_indices)\n",
    "# print(frdeep_indices)\n",
    "# print(only_in_frdeep_indices)\n",
    "# print(combined_indices)"
   ]
  },
  {
   "cell_type": "code",
   "execution_count": 52,
   "metadata": {},
   "outputs": [],
   "source": [
    "x_train, y_train = isolate_at17_frdeep(train_data)\n",
    "x_test, y_test = isolate_at17_frdeep(test_data)"
   ]
  },
  {
   "cell_type": "code",
   "execution_count": 53,
   "metadata": {},
   "outputs": [
    {
     "name": "stdout",
     "output_type": "stream",
     "text": [
      "(796, 150, 150, 1)\n",
      "(142, 150, 150, 1)\n",
      "----------------------------\n",
      "FRI: 226\n",
      "FRII: 363\n",
      "BENT: 207\n",
      "----------------------------\n",
      "----------------------------\n",
      "FRI: 40\n",
      "FRII: 54\n",
      "BENT: 48\n",
      "----------------------------\n"
     ]
    }
   ],
   "source": [
    "print(x_train.shape)\n",
    "print(x_test.shape)\n",
    "print_report(y_train)\n",
    "print_report(y_test)"
   ]
  },
  {
   "cell_type": "code",
   "execution_count": 63,
   "metadata": {},
   "outputs": [],
   "source": [
    "x_train = x_train / 255.0\n",
    "x_test = x_test / 255.0"
   ]
  },
  {
   "cell_type": "code",
   "execution_count": 55,
   "metadata": {},
   "outputs": [
    {
     "name": "stdout",
     "output_type": "stream",
     "text": [
      "['FRI', 'FRII', 'Hyb']\n"
     ]
    }
   ],
   "source": [
    "classes = test_data.classes\n",
    "print(classes)"
   ]
  },
  {
   "cell_type": "code",
   "execution_count": 56,
   "metadata": {},
   "outputs": [
    {
     "data": {
      "text/plain": [
       "(300, 150, 150, 1)"
      ]
     },
     "execution_count": 56,
     "metadata": {},
     "output_type": "execute_result"
    }
   ],
   "source": [
    "test_data.data.shape"
   ]
  }
 ],
 "metadata": {
  "kernelspec": {
   "display_name": "Python 3",
   "language": "python",
   "name": "python3"
  },
  "language_info": {
   "codemirror_mode": {
    "name": "ipython",
    "version": 3
   },
   "file_extension": ".py",
   "mimetype": "text/x-python",
   "name": "python",
   "nbconvert_exporter": "python",
   "pygments_lexer": "ipython3",
   "version": "3.10.12"
  }
 },
 "nbformat": 4,
 "nbformat_minor": 2
}
