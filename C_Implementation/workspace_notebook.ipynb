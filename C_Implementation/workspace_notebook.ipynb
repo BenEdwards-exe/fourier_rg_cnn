{
 "cells": [
  {
   "cell_type": "code",
   "execution_count": 85,
   "metadata": {},
   "outputs": [],
   "source": [
    "import numpy as np\n",
    "import tensorflow as tf\n",
    "import keras\n",
    "from keras.layers import BatchNormalization\n",
    "import math"
   ]
  },
  {
   "cell_type": "code",
   "execution_count": 86,
   "metadata": {},
   "outputs": [
    {
     "name": "stdout",
     "output_type": "stream",
     "text": [
      "Shape of input feature map:  (1, 150, 150, 1)\n",
      "Real Input:  tf.Tensor([-340.0954], shape=(1,), dtype=float32)\n",
      "\n",
      "Imag Input:  tf.Tensor([13.17975], shape=(1,), dtype=float32)\n",
      "Shape of filters:  (150, 150, 1, 32)\n",
      "tf.Tensor(\n",
      "[ 1.7070187  -0.6532587  -1.411036    0.49434805  0.14689273 -0.18017149\n",
      "  0.62535787 -0.1872252   2.8218632   1.6008384   0.1738767  -1.2688624\n",
      "  4.5345554  -1.607304   -0.9625048  -1.8037035   0.37793916 -0.7210022\n",
      "  0.82449675  0.9351041   0.80745524  3.7595797   1.3952866   1.4047085\n",
      " -1.3126156  -0.72550225  0.3099211   0.5940683  -0.9378712   0.681558\n",
      "  1.0259459  -1.9606347 ], shape=(32,), dtype=float32)\n"
     ]
    }
   ],
   "source": [
    "import sys\n",
    "sys.path.append('../')\n",
    "\n",
    "# Load test images\n",
    "x_test_real = np.load(\"test_images/x_test_real.npy\")\n",
    "x_test_imag = np.load(\"test_images/x_test_imag.npy\")\n",
    "\n",
    "# Take first image and convert to tensor\n",
    "# Expand first dim so shape is N,H,W,C_in\n",
    "x_test_real = tf.expand_dims(tf.convert_to_tensor(x_test_real[0]), axis=0)\n",
    "x_test_imag = tf.expand_dims(tf.convert_to_tensor(x_test_imag[0]), axis=0)\n",
    "\n",
    "print(\"Shape of input feature map: \", x_test_real.shape)\n",
    "print(\"Real Input: \", x_test_real[0][0][3])\n",
    "\n",
    "print(\"\\nImag Input: \", x_test_imag[0][7][15])\n",
    "\n",
    "\n",
    "# Load filters/kernels weights already in freq domain\n",
    "# filters shape: H,W,C_in,C_out\n",
    "filters_l1_real = tf.convert_to_tensor(np.load(\"weight_files/conv_weights_real_layer1.npy\"))\n",
    "filters_l1_imag = tf.convert_to_tensor(np.load(\"weight_files/conv_weights_imag_layer1.npy\"))\n",
    "\n",
    "filters_l2_real = tf.convert_to_tensor(np.load(\"weight_files/conv_weights_real_layer2.npy\"))\n",
    "filters_l2_imag = tf.convert_to_tensor(np.load(\"weight_files/conv_weights_imag_layer2.npy\"))\n",
    "\n",
    "filters_l3_real = tf.convert_to_tensor(np.load(\"weight_files/conv_weights_real_layer3.npy\"))\n",
    "filters_l3_imag = tf.convert_to_tensor(np.load(\"weight_files/conv_weights_imag_layer3.npy\"))\n",
    "\n",
    "filters_l4_real = tf.convert_to_tensor(np.load(\"weight_files/conv_weights_real_layer4.npy\"))\n",
    "filters_l4_imag = tf.convert_to_tensor(np.load(\"weight_files/conv_weights_imag_layer4.npy\"))\n",
    "\n",
    "filters_l5_real = tf.convert_to_tensor(np.load(\"weight_files/conv_weights_real_layer5.npy\"))\n",
    "filters_l5_imag = tf.convert_to_tensor(np.load(\"weight_files/conv_weights_imag_layer5.npy\"))\n",
    "\n",
    "print(\"Shape of filters: \",filters_l1_imag.shape)\n",
    "print(filters_l1_real[0][1][0])\n",
    "\n",
    "b_norm_real = []\n",
    "b_norm_imag = []\n",
    "b_norm_variable_names = [\"gamma\", \"beta\", \"moving_mean\", \"moving_var\"]\n",
    "\n",
    "# Load bnorm layer values\n",
    "for layer in range(8):\n",
    "    real_variables = {}\n",
    "    imag_variables = {}\n",
    "    for variable in b_norm_variable_names:\n",
    "        filename = \"weight_files/b_norm\" + str(layer+1) + \"_real_\" + variable + \".npy\" \n",
    "        real_variables[variable] = np.load(filename)\n",
    "        filename = \"weight_files/b_norm\" + str(layer+1) + \"_imag_\" + variable + \".npy\" \n",
    "        imag_variables[variable] = np.load(filename)\n",
    "    b_norm_real.append(real_variables)\n",
    "    b_norm_imag.append(imag_variables)\n",
    "\n",
    "# Load Dense Layer Values\n",
    "dense_real = []\n",
    "dense_imag = []\n",
    "dense_variable_names = [\"kernel\", \"bias\"]\n",
    "for layer in range(3):\n",
    "    real_variables = {}\n",
    "    imag_variables = {}\n",
    "    for variable in dense_variable_names:\n",
    "        filename = \"weight_files/dense\" + str(layer+1) + \"_real_\" + variable + \".npy\" \n",
    "        real_variables[variable] = np.load(filename)\n",
    "        filename = \"weight_files/dense\" + str(layer+1) + \"_imag_\" + variable + \".npy\"\n",
    "        imag_variables[variable] = np.load(filename)\n",
    "    dense_real.append(real_variables)\n",
    "    dense_imag.append(imag_variables) \n",
    "    \n",
    "# Load Output Dense Layer Values\n",
    "output_dense_weights = {\n",
    "    \"kernel\": np.load(\"weight_files/dense4_kernel.npy\"),\n",
    "    \"bias\": np.load(\"weight_files/dense4_bias.npy\")\n",
    "}\n"
   ]
  },
  {
   "cell_type": "markdown",
   "metadata": {},
   "source": [
    "## First Network Block\n",
    "Block:\n",
    "- Elementwise Multiply\n",
    "- Batch Normalize\n",
    "- Activation\n",
    "- Pooling"
   ]
  },
  {
   "cell_type": "code",
   "execution_count": 87,
   "metadata": {},
   "outputs": [
    {
     "name": "stdout",
     "output_type": "stream",
     "text": [
      "(32,)\n",
      "(32,)\n",
      "(64,)\n",
      "(64,)\n",
      "(128,)\n",
      "(512,)\n",
      "(256,)\n",
      "(256,)\n"
     ]
    }
   ],
   "source": [
    "for i in range(8):\n",
    "    print(b_norm_real[i][\"beta\"].shape)"
   ]
  },
  {
   "cell_type": "code",
   "execution_count": 88,
   "metadata": {},
   "outputs": [],
   "source": [
    "# Initialize bnorm layers\n",
    "b_norm_shapes = [\n",
    "    (150,150,32), (75,75,32), (37,37,64), (18,18,64), (9,9,128), (512), (256), (256)\n",
    "]\n",
    "\n",
    "b_norm_layers_real = []\n",
    "b_norm_layers_imag = []\n",
    "\n",
    "for layer in range(8):\n",
    "    real_layer = keras.Sequential([\n",
    "        keras.layers.Input(b_norm_shapes[layer]),\n",
    "        keras.layers.BatchNormalization()\n",
    "    ])\n",
    "    real_layer.layers[0].set_weights([\n",
    "        b_norm_real[layer][\"gamma\"], b_norm_real[layer][\"beta\"],\n",
    "        b_norm_real[layer][\"moving_mean\"], b_norm_real[layer][\"moving_var\"]\n",
    "    ])\n",
    "    b_norm_layers_real.append(real_layer)\n",
    "\n",
    "    imag_layer = keras.Sequential([\n",
    "        keras.layers.Input(b_norm_shapes[layer]),\n",
    "        keras.layers.BatchNormalization()\n",
    "    ])\n",
    "    imag_layer.layers[0].set_weights([\n",
    "        b_norm_imag[layer][\"gamma\"], b_norm_imag[layer][\"beta\"],\n",
    "        b_norm_imag[layer][\"moving_mean\"], b_norm_imag[layer][\"moving_var\"]\n",
    "    ])\n",
    "    b_norm_layers_imag.append(imag_layer)\n",
    "\n"
   ]
  },
  {
   "cell_type": "code",
   "execution_count": 89,
   "metadata": {},
   "outputs": [],
   "source": [
    "# Initialize Dense Layers\n",
    "dense_units = [512, 256, 256]\n",
    "dense_input_shapes = [(2048), (512), (256)]\n",
    "\n",
    "dense_layers_real = []\n",
    "dense_layers_imag = []\n",
    "\n",
    "for layer in range(3):\n",
    "    real_layer = keras.Sequential([\n",
    "        keras.layers.Input(shape=dense_input_shapes[layer]),\n",
    "        keras.layers.Dense(units=dense_units[layer])\n",
    "    ])\n",
    "    real_layer.layers[0].set_weights([\n",
    "        dense_real[layer][\"kernel\"], dense_real[layer][\"bias\"]\n",
    "    ])\n",
    "    dense_layers_real.append(real_layer)\n",
    "\n",
    "    imag_layer = keras.Sequential([\n",
    "        keras.layers.Input(shape=dense_input_shapes[layer]),\n",
    "        keras.layers.Dense(units=dense_units[layer])\n",
    "    ])\n",
    "    imag_layer.layers[0].set_weights([\n",
    "        dense_imag[layer][\"kernel\"], dense_imag[layer][\"bias\"]\n",
    "    ])\n",
    "    dense_layers_imag.append(imag_layer)"
   ]
  },
  {
   "cell_type": "code",
   "execution_count": 90,
   "metadata": {},
   "outputs": [],
   "source": [
    "# Output Dense Layer\n",
    "output_dense_layer = keras.Sequential([\n",
    "    keras.layers.Input(shape=(512)),\n",
    "    keras.layers.Dense(units=3)\n",
    "])\n",
    "output_dense_layer.layers[0].set_weights([\n",
    "    output_dense_weights[\"kernel\"], output_dense_weights[\"bias\"]\n",
    "])"
   ]
  },
  {
   "cell_type": "code",
   "execution_count": 91,
   "metadata": {},
   "outputs": [],
   "source": [
    "# Leaky ReLu\n",
    "leaky_relu = keras.layers.LeakyReLU(alpha=0.2)\n",
    "# Max Pool\n",
    "max_pool = keras.layers.MaxPool2D(pool_size=(2,2))\n",
    "# Flatten\n",
    "flatten_layer = keras.layers.Flatten()\n",
    "# Concat\n",
    "concat_layer = keras.layers.Concatenate(axis=1)\n",
    "# Softmax\n",
    "softmax_activation = keras.layers.Activation(activation=\"softmax\")"
   ]
  },
  {
   "cell_type": "code",
   "execution_count": 92,
   "metadata": {},
   "outputs": [
    {
     "name": "stdout",
     "output_type": "stream",
     "text": [
      "\n",
      "Shape of FC3 Output:  (1, 256)\n",
      "\n",
      "Real F-Map Sample:  tf.Tensor(0.7843845, shape=(), dtype=float32)\n",
      "\n",
      "Imag F-Map Sample:  tf.Tensor(1.1313245, shape=(), dtype=float32)\n"
     ]
    }
   ],
   "source": [
    "from fourier_model import element_wise_multiply\n",
    "\n",
    "# Block 1\n",
    "out_real, out_imag = element_wise_multiply(x_test_real, x_test_imag, filters_l1_real, filters_l1_imag)\n",
    "out_real, out_imag = b_norm_layers_real[0].call(out_real, training=False), b_norm_layers_imag[0].call(out_imag, training=False)\n",
    "out_real, out_imag = leaky_relu(out_real), leaky_relu(out_imag)\n",
    "out_real, out_imag = max_pool(out_real), max_pool(out_imag)\n",
    "\n",
    "# print(\"Shape of Block 1 Output: \", out_real.shape)\n",
    "# print(\"\\nReal F-Map Sample: \", out_real[0][15][12])\n",
    "# print(\"\\nImag F-Map Sample: \", out_imag[0][4][49])\n",
    "\n",
    "# Block 2\n",
    "out_real, out_imag = element_wise_multiply(out_real, out_imag, filters_l2_real, filters_l2_imag)\n",
    "out_real, out_imag = b_norm_layers_real[1].call(out_real, training=False), b_norm_layers_imag[1].call(out_imag, training=False)\n",
    "out_real, out_imag = leaky_relu(out_real), leaky_relu(out_imag)\n",
    "out_real, out_imag = max_pool(out_real), max_pool(out_imag)\n",
    "\n",
    "\n",
    "# Block 3\n",
    "out_real, out_imag = element_wise_multiply(out_real, out_imag, filters_l3_real, filters_l3_imag)\n",
    "out_real, out_imag = b_norm_layers_real[2].call(out_real, training=False), b_norm_layers_imag[2].call(out_imag, training=False)\n",
    "out_real, out_imag = leaky_relu(out_real), leaky_relu(out_imag)\n",
    "out_real, out_imag = max_pool(out_real), max_pool(out_imag)\n",
    "\n",
    "# Block 4\n",
    "out_real, out_imag = element_wise_multiply(out_real, out_imag, filters_l4_real, filters_l4_imag)\n",
    "out_real, out_imag = b_norm_layers_real[3].call(out_real, training=False), b_norm_layers_imag[3].call(out_imag, training=False)\n",
    "out_real, out_imag = leaky_relu(out_real), leaky_relu(out_imag)\n",
    "out_real, out_imag = max_pool(out_real), max_pool(out_imag)\n",
    "\n",
    "# Block 5\n",
    "out_real, out_imag = element_wise_multiply(out_real, out_imag, filters_l5_real, filters_l5_imag)\n",
    "out_real, out_imag = b_norm_layers_real[4].call(out_real, training=False), b_norm_layers_imag[4].call(out_imag, training=False)\n",
    "out_real, out_imag = leaky_relu(out_real), leaky_relu(out_imag)\n",
    "out_real, out_imag = max_pool(out_real), max_pool(out_imag)\n",
    "\n",
    "# print(\"\\nShape of Block 5 Output: \", out_real.shape)\n",
    "# print(\"\\nReal F-Map Sample: \", out_real[0][1][2])\n",
    "# print(\"\\nImag F-Map Sample: \", out_imag[0][2][3])\n",
    "\n",
    "# FLATTEN\n",
    "out_real, out_imag = flatten_layer(out_real), flatten_layer(out_imag)\n",
    "\n",
    "\n",
    "# FC1\n",
    "out_real, out_imag = dense_layers_real[0].call(out_real, training=False), dense_layers_imag[0].call(out_imag, training=False)\n",
    "out_real, out_imag = b_norm_layers_real[5].call(out_real, training=False), b_norm_layers_imag[5].call(out_imag, training=False)\n",
    "out_real, out_imag = leaky_relu(out_real), leaky_relu(out_imag)\n",
    "\n",
    "\n",
    "\n",
    "# FC2\n",
    "out_real, out_imag = dense_layers_real[1].call(out_real, training=False), dense_layers_imag[1].call(out_imag, training=False)\n",
    "out_real, out_imag = b_norm_layers_real[6].call(out_real, training=False), b_norm_layers_imag[6].call(out_imag, training=False)\n",
    "out_real, out_imag = leaky_relu(out_real), leaky_relu(out_imag)\n",
    "\n",
    "# FC3\n",
    "out_real, out_imag = dense_layers_real[2].call(out_real, training=False), dense_layers_imag[2].call(out_imag, training=False)\n",
    "out_real, out_imag = b_norm_layers_real[7].call(out_real, training=False), b_norm_layers_imag[7].call(out_imag, training=False)\n",
    "out_real, out_imag = leaky_relu(out_real), leaky_relu(out_imag)\n",
    "\n",
    "print(\"\\nShape of FC3 Output: \", out_real.shape)\n",
    "print(\"\\nReal F-Map Sample: \", out_real[0][255])\n",
    "print(\"\\nImag F-Map Sample: \", out_imag[0][240])\n",
    "\n",
    "# CONCATENATE\n",
    "out_concat = concat_layer([out_real, out_imag])\n",
    "\n",
    "# OUTPUT\n",
    "out_concat = output_dense_layer.call(out_concat, training=False)\n",
    "probs = softmax_activation(out_concat)"
   ]
  },
  {
   "cell_type": "code",
   "execution_count": 105,
   "metadata": {},
   "outputs": [
    {
     "data": {
      "text/plain": [
       "<tf.Tensor: shape=(1, 3), dtype=float32, numpy=array([[ 2.9407008,  4.036466 , -7.118903 ]], dtype=float32)>"
      ]
     },
     "execution_count": 105,
     "metadata": {},
     "output_type": "execute_result"
    }
   ],
   "source": [
    "out_concat"
   ]
  },
  {
   "cell_type": "code",
   "execution_count": 97,
   "metadata": {},
   "outputs": [
    {
     "data": {
      "text/plain": [
       "<tf.Tensor: shape=(1, 3), dtype=float32, numpy=array([[2.5053152e-01, 7.4945778e-01, 1.0715984e-05]], dtype=float32)>"
      ]
     },
     "execution_count": 97,
     "metadata": {},
     "output_type": "execute_result"
    }
   ],
   "source": [
    "probs"
   ]
  }
 ],
 "metadata": {
  "kernelspec": {
   "display_name": "Python 3",
   "language": "python",
   "name": "python3"
  },
  "language_info": {
   "codemirror_mode": {
    "name": "ipython",
    "version": 3
   },
   "file_extension": ".py",
   "mimetype": "text/x-python",
   "name": "python",
   "nbconvert_exporter": "python",
   "pygments_lexer": "ipython3",
   "version": "3.10.12"
  }
 },
 "nbformat": 4,
 "nbformat_minor": 2
}
